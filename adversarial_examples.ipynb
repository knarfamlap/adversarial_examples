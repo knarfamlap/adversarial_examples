{
  "nbformat": 4,
  "nbformat_minor": 0,
  "metadata": {
    "colab": {
      "name": "adversarial_examples.ipynb",
      "provenance": [],
      "authorship_tag": "ABX9TyNzbwmSU/apgnjwVME5vZNJ"
    },
    "kernelspec": {
      "name": "python3",
      "display_name": "Python 3"
    }
  },
  "cells": [
    {
      "cell_type": "code",
      "metadata": {
        "id": "49uVa2nXAdN3"
      },
      "source": [
        "import tensorflow as tf\n",
        "import tensorflow_datasets as tfds\n",
        "import numpy as np\n",
        "import matplotlib.pyplot as plt"
      ],
      "execution_count": 95,
      "outputs": []
    },
    {
      "cell_type": "code",
      "metadata": {
        "id": "u_r3ikIaAnN6"
      },
      "source": [
        "(x_train, y_train), (x_test, y_test) = tf.keras.datasets.mnist.load_data()"
      ],
      "execution_count": 96,
      "outputs": []
    },
    {
      "cell_type": "code",
      "metadata": {
        "id": "N6hsGExbBeGZ"
      },
      "source": [
        "img_rows, img_cols = 28, 28 \n",
        "num_classes = 10\n",
        "\n",
        "x_train = x_train / 255.\n",
        "x_test = x_test / 255.\n",
        "\n",
        "x_train = x_train.astype('float32')\n",
        "x_test = x_test.astype('float32')"
      ],
      "execution_count": 99,
      "outputs": []
    },
    {
      "cell_type": "code",
      "metadata": {
        "id": "z8Wx6CstCWOR"
      },
      "source": [
        "model = tf.keras.models.Sequential([\n",
        "                                    tf.keras.layers.Flatten(input_shape=(28, 28)),\n",
        "                                    tf.keras.layers.Dense(128, activation='relu'),\n",
        "                                    tf.keras.layers.Dense(10, activation='softmax')\n",
        "])"
      ],
      "execution_count": 100,
      "outputs": []
    },
    {
      "cell_type": "code",
      "metadata": {
        "id": "4K2vmkN_ljq4"
      },
      "source": [
        "loss_obj = tf.keras.losses.SparseCategoricalCrossentropy()"
      ],
      "execution_count": 101,
      "outputs": []
    },
    {
      "cell_type": "code",
      "metadata": {
        "id": "RjomcJb1Csl-"
      },
      "source": [
        "model.compile(\n",
        "    loss=loss_obj,\n",
        "    optimizer=tf.keras.optimizers.Adam(),\n",
        "    metrics=['accuracy'],\n",
        ")"
      ],
      "execution_count": 102,
      "outputs": []
    },
    {
      "cell_type": "code",
      "metadata": {
        "id": "GQqvmYlkC_wC",
        "outputId": "d5a25ca5-9461-4294-c761-080226fa4f90",
        "colab": {
          "base_uri": "https://localhost:8080/",
          "height": 238
        }
      },
      "source": [
        "model.fit(x_train, y_train, epochs=6,)"
      ],
      "execution_count": 103,
      "outputs": [
        {
          "output_type": "stream",
          "text": [
            "Epoch 1/6\n",
            "1875/1875 [==============================] - 3s 2ms/step - loss: 0.2611 - accuracy: 0.9260\n",
            "Epoch 2/6\n",
            "1875/1875 [==============================] - 3s 2ms/step - loss: 0.1158 - accuracy: 0.9652\n",
            "Epoch 3/6\n",
            "1875/1875 [==============================] - 3s 2ms/step - loss: 0.0785 - accuracy: 0.9760\n",
            "Epoch 4/6\n",
            "1875/1875 [==============================] - 3s 2ms/step - loss: 0.0611 - accuracy: 0.9813\n",
            "Epoch 5/6\n",
            "1875/1875 [==============================] - 3s 2ms/step - loss: 0.0469 - accuracy: 0.9852\n",
            "Epoch 6/6\n",
            "1875/1875 [==============================] - 3s 2ms/step - loss: 0.0366 - accuracy: 0.9887\n"
          ],
          "name": "stdout"
        },
        {
          "output_type": "execute_result",
          "data": {
            "text/plain": [
              "<tensorflow.python.keras.callbacks.History at 0x7ff924369f60>"
            ]
          },
          "metadata": {
            "tags": []
          },
          "execution_count": 103
        }
      ]
    },
    {
      "cell_type": "code",
      "metadata": {
        "id": "qw1uhJwVDGQj"
      },
      "source": [
        "def create_adversarial_example(image, label):\n",
        "  \"\"\"\n",
        "  Create adverssarial examples with signed_grad\n",
        "  \n",
        "  Args:\n",
        "    image: image with shape (1, 28, 28) or (batch_size, height, width)\n",
        "    label: label associated with the image. Label is type integer\n",
        "\n",
        "  Returns:\n",
        "    signed_grad: return the signed gradient of the image\n",
        "  \"\"\"\n",
        "  # convert the image into a tf.Tensor\n",
        "  image = tf.convert_to_tensor(image.reshape(1, img_rows, img_cols))\n",
        "\n",
        "  with tf.GradientTape() as tape:\n",
        "    tape.watch(image)\n",
        "    prediction = model(image)\n",
        "    loss = loss_obj(label, prediction)\n",
        "\n",
        "  # Get gradients of the loss w.r.t the input image\n",
        "  gradient = tape.gradient(loss, image)\n",
        "  # Get the sign of gradient to create perturbation\n",
        "  signed_grad = tf.sign(gradient)\n",
        "\n",
        "  return signed_grad"
      ],
      "execution_count": 104,
      "outputs": []
    },
    {
      "cell_type": "code",
      "metadata": {
        "id": "aAGT0FYez49Q"
      },
      "source": [
        "def show_image(image, label, confidence, description):\n",
        "  plt.figure()\n",
        "  plt.imshow(image * 0.5 + 0.5)\n",
        "  plt.title('{} \\n {} : {:.2f}% Confidence'.format(description, label, confidence * 100))"
      ],
      "execution_count": 167,
      "outputs": []
    },
    {
      "cell_type": "code",
      "metadata": {
        "id": "KplS-Ql5udP6"
      },
      "source": [
        "def display_adversarial_examples(image, label, eps):\n",
        "  \"\"\"\n",
        "  Produces len(eps) + 1 images that apply pertubations to the image.\n",
        "\n",
        "  Args:\n",
        "    image: image with shape (1, 28, 28) or (batch_size, height, width)\n",
        "    label: label associated with the image. Label is type integer\n",
        "    eps: array with different epsilon values that want to tested. Shape (1, n)\n",
        "  \"\"\"\n",
        "  # contains all images after the pertubation was applied\n",
        "  adversarial_images = [] \n",
        "\n",
        "  for ep in eps:\n",
        "    # create pertubation\n",
        "    perturbation = create_adversarial_example(image, label)\n",
        "    # apply epsilon * the pertubation to the image\n",
        "    adversarial = image + ep * perturbation\n",
        "    # predict the label for the adversarial example\n",
        "    adversarial_label = np.argmax(model.predict(adversarial))\n",
        "    # get the confidence of the prediction\n",
        "    adversarial_conf = np.amax(model.predict(adversarial))\n",
        "    adversarial_images.append((adversarial, adversarial_label, adversarial_conf, 'Epsilon = {:0.3f}'.format(ep)))\n",
        "\n",
        "  # show original\n",
        "  show_image(image.reshape(img_rows, img_cols), label, np.amax(model.predict(image)), \"Input\")\n",
        "\n",
        "  # generate images\n",
        "  for ad_ex in adversarial_images:\n",
        "    ad_ex_img = ad_ex[0][0]\n",
        "    ad_ex_label = ad_ex[1]\n",
        "    ad_ex_conf = ad_ex[2]\n",
        "    ad_ex_description = ad_ex[3]\n",
        "    show_image(ad_ex_img, ad_ex_label, ad_ex_conf, ad_ex_description)"
      ],
      "execution_count": 168,
      "outputs": []
    },
    {
      "cell_type": "code",
      "metadata": {
        "id": "acrUW0jSzfB6",
        "outputId": "ee939c88-97b7-4ea6-ebd2-771455015a77",
        "colab": {
          "base_uri": "https://localhost:8080/",
          "height": 1000
        }
      },
      "source": [
        "display_adversarial_examples(x_train[5].reshape(1, img_rows, img_cols), y_train[5], [0.01, 0.1, 0.15])"
      ],
      "execution_count": 169,
      "outputs": [
        {
          "output_type": "display_data",
          "data": {
            "image/png": "[encoded data removed]",
            "text/plain": [
              "<Figure size 432x288 with 1 Axes>"
            ]
          },
          "metadata": {
            "tags": [],
            "needs_background": "light"
          }
        },
        {
          "output_type": "display_data",
          "data": {
            "image/png": "[encoded data removed]",
            "text/plain": [
              "<Figure size 432x288 with 1 Axes>"
            ]
          },
          "metadata": {
            "tags": [],
            "needs_background": "light"
          }
        },
        {
          "output_type": "display_data",
          "data": {
            "image/png": "[encoded data removed]",
            "text/plain": [
              "<Figure size 432x288 with 1 Axes>"
            ]
          },
          "metadata": {
            "tags": [],
            "needs_background": "light"
          }
        },
        {
          "output_type": "display_data",
          "data": {
            "image/png": "[encoded data removed]",
            "text/plain": [
              "<Figure size 432x288 with 1 Axes>"
            ]
          },
          "metadata": {
            "tags": [],
            "needs_background": "light"
          }
        }
      ]
    },
    {
      "cell_type": "code",
      "metadata": {
        "id": "OdeMYfqAJNJU"
      },
      "source": [
        ""
      ],
      "execution_count": null,
      "outputs": []
    }
  ]
}